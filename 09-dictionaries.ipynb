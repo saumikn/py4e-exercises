{
 "cells": [
  {
   "cell_type": "markdown",
   "metadata": {},
   "source": [
    "#### Before you start working on these exercises, make sure you've watched the videos, done the reading, and taken the quiz!\n",
    "\n",
    "General Resources:\n",
    "* [Main PY4E Website](https://www.py4e.com)\n",
    "* [Full Textbook PDF](http://do1.dr-chuck.com/pythonlearn/EN_us/pythonlearn.pdf)\n",
    "* [Full Youtube Playlist](https://www.youtube.com/playlist?list=PLlRFEj9H3Oj7Bp8-DfGpfAfDBiblRfl5p)\n",
    "\n",
    "Lesson 9 Resources:\n",
    "* [Lesson Page](https://www.py4e.com/lessons/dictionary)\n",
    "* [Video 9.1](https://www.youtube.com/watch?v=yDDRMb-1cxI&list=PLlRFEj9H3Oj7Bp8-DfGpfAfDBiblRfl5p&index=37)\n",
    "* [Video 9.2](https://www.youtube.com/watch?v=LRSIuH94XM4&list=PLlRFEj9H3Oj7Bp8-DfGpfAfDBiblRfl5p&index=38)\n",
    "* [Video 9.3](https://www.youtube.com/watch?v=ZDjiFB1Ib84&list=PLlRFEj9H3Oj7Bp8-DfGpfAfDBiblRfl5p&index=40)\n",
    "* [Video 9.4](https://www.youtube.com/watch?v=lLbyEYjU55A&list=PLlRFEj9H3Oj7Bp8-DfGpfAfDBiblRfl5p&index=41)\n",
    "* [Lesson Slides](https://www.py4e.com/lectures3/dictionaries-09-Dictionaries.pptx)\n",
    "* [Textbook Chapter 9](https://www.py4e.com/html3/09-dictionaries)\n",
    "* [Link to Quiz (must be logged in)](https://www.py4e.com/lessons_launch/py4e_09_dict_quiz)"
   ]
  },
  {
   "cell_type": "code",
   "execution_count": null,
   "metadata": {},
   "outputs": [],
   "source": [
    "# Make sure to run this cell to load the autograder!\n",
    "from grader import *"
   ]
  },
  {
   "cell_type": "markdown",
   "metadata": {},
   "source": [
    "**Exercise 1: Write a program that reads the words in *words.txt* and\n",
    "stores them as keys in a dictionary. It doesn't matter what the values\n",
    "are. Then you can use the `in` operator as a fast way to\n",
    "check whether a string is in the dictionary. At the end of the program print your dictionary (order does not matter).**"
   ]
  },
  {
   "cell_type": "code",
   "execution_count": null,
   "metadata": {},
   "outputs": [],
   "source": [
    "exercise = 'Exercise 9.1'\n",
    "\n",
    "### Start Code Here ###\n",
    "\n",
    "###  End Code Here  ###\n"
   ]
  },
  {
   "cell_type": "code",
   "execution_count": null,
   "metadata": {},
   "outputs": [],
   "source": [
    "# Make sure to save your notebook before checking!\n",
    "check_exercise('Exercise 9.1')"
   ]
  },
  {
   "cell_type": "markdown",
   "metadata": {},
   "source": [
    "**Exercise 2: Write a program that categorizes each mail message by which\n",
    "day of the week the commit was done. To do this look for lines that\n",
    "start with \"From\", then look for the third word and keep a running count\n",
    "of each of the days of the week. At the end of the program print out the\n",
    "contents of your dictionary (order does not matter).**\n",
    "\n",
    "**Sample Line:**\n",
    "\n",
    "~~~~\n",
    "From stephen.marquard@uct.ac.za Sat Jan  5 09:14:16 2008\n",
    "~~~~\n",
    "\n",
    "**Sample Execution:**\n",
    "\n",
    "~~~~\n",
    "Enter a file name: mbox-short.txt\n",
    "{'Fri': 20, 'Thu': 6, 'Sat': 1}\n",
    "~~~~"
   ]
  },
  {
   "cell_type": "code",
   "execution_count": null,
   "metadata": {},
   "outputs": [],
   "source": [
    "exercise = 'Exercise 9.2'\n",
    "\n",
    "### Start Code Here ###\n",
    "\n",
    "###  End Code Here  ###"
   ]
  },
  {
   "cell_type": "code",
   "execution_count": null,
   "metadata": {},
   "outputs": [],
   "source": [
    "# Make sure to save your notebook before checking!\n",
    "check_exercise('Exercise 9.2')"
   ]
  },
  {
   "cell_type": "markdown",
   "metadata": {},
   "source": [
    "**Exercise 3: Write a program to read through a mail log, build a\n",
    "histogram using a dictionary to count how many messages have come from\n",
    "each email address, and print the dictionary.**\n",
    "\n",
    "**Hint: If you look at the actual *mbox-short.txt* file, you will see that\n",
    "there are two lines that start with \"From\" for each email. You will need to\n",
    "write your program carefully and check that each email is only counted once.**\n",
    "\n",
    "~~~~\n",
    "Enter file name: mbox-short.txt\n",
    "{'gopal.ramasammycook@gmail.com': 1, 'louis@media.berkeley.edu': 3,\n",
    "'cwen@iupui.edu': 5, 'antranig@caret.cam.ac.uk': 1,\n",
    "'rjlowe@iupui.edu': 2, 'gsilver@umich.edu': 3,\n",
    "'david.horwitz@uct.ac.za': 4, 'wagnermr@iupui.edu': 1,\n",
    "'zqian@umich.edu': 4, 'stephen.marquard@uct.ac.za': 2,\n",
    "'ray@media.berkeley.edu': 1}\n",
    "~~~~\n"
   ]
  },
  {
   "cell_type": "code",
   "execution_count": null,
   "metadata": {},
   "outputs": [],
   "source": [
    "exercise = 'Exercise 9.3'\n",
    "\n",
    "### Start Code Here ###\n",
    "\n",
    "###  End Code Here  ###"
   ]
  },
  {
   "cell_type": "code",
   "execution_count": null,
   "metadata": {},
   "outputs": [],
   "source": [
    "# Make sure to save your notebook before checking!\n",
    "check_exercise('Exercise 9.3')"
   ]
  },
  {
   "cell_type": "markdown",
   "metadata": {},
   "source": [
    "**Exercise 4: Add code to the above program to figure out who has the most messages in the file. After all the data has been read and the dictionary has been created, look through the dictionary using a maximum loop (see Chapter 5: Maximum and minimum loops) to find who has the most messages and print how many messages the person has.**\n",
    "\n",
    "~~~~\n",
    "Enter a file name: mbox-short.txt\n",
    "cwen@iupui.edu 5\n",
    "\n",
    "Enter a file name: mbox.txt\n",
    "zqian@umich.edu 195\n",
    "~~~~"
   ]
  },
  {
   "cell_type": "code",
   "execution_count": null,
   "metadata": {},
   "outputs": [],
   "source": [
    "exercise = 'Exercise 9.4'\n",
    "\n",
    "### Start Code Here ###\n",
    "\n",
    "###  End Code Here  ###"
   ]
  },
  {
   "cell_type": "code",
   "execution_count": null,
   "metadata": {},
   "outputs": [],
   "source": [
    "# Make sure to save your notebook before checking!\n",
    "check_exercise('Exercise 9.4')"
   ]
  },
  {
   "cell_type": "markdown",
   "metadata": {},
   "source": [
    "**Exercise 5: This program records the domain name (instead of the\n",
    "address) where the message was sent from instead of who the mail came\n",
    "from (i.e., the whole email address). At the end of the program, print\n",
    "out the contents of your dictionary.**\n",
    "\n",
    "~~~~\n",
    "Enter a file name: mbox-short.txt\n",
    "{'media.berkeley.edu': 4, 'uct.ac.za': 6, 'umich.edu': 7,\n",
    "'gmail.com': 1, 'caret.cam.ac.uk': 1, 'iupui.edu': 8}\n",
    "~~~~"
   ]
  },
  {
   "cell_type": "code",
   "execution_count": null,
   "metadata": {},
   "outputs": [],
   "source": [
    "exercise = 'Exercise 9.5'\n",
    "\n",
    "### Start Code Here ###\n",
    "\n",
    "###  End Code Here  ###"
   ]
  },
  {
   "cell_type": "code",
   "execution_count": null,
   "metadata": {},
   "outputs": [],
   "source": [
    "# Make sure to save your notebook before checking!\n",
    "check_exercise('Exercise 9.5')"
   ]
  }
 ],
 "metadata": {
  "kernelspec": {
   "display_name": "Python 3",
   "language": "python",
   "name": "python3"
  },
  "language_info": {
   "codemirror_mode": {
    "name": "ipython",
    "version": 3
   },
   "file_extension": ".py",
   "mimetype": "text/x-python",
   "name": "python",
   "nbconvert_exporter": "python",
   "pygments_lexer": "ipython3",
   "version": "3.8.3"
  }
 },
 "nbformat": 4,
 "nbformat_minor": 4
}
