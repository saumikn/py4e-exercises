{
 "cells": [
  {
   "cell_type": "markdown",
   "metadata": {},
   "source": [
    "**Exercise 1: Download a copy of the file**\n",
    "[www.py4e.com/code3/words.txt](http://www.py4e.com/code3/words.txt)\n",
    "\n",
    "**Write a function that reads the words in *words.txt* and\n",
    "stores them as keys in a dictionary. It doesn't matter what the values\n",
    "are. Then you can use the `in` operator as a fast way to\n",
    "check whether a string is in the dictionary.**"
   ]
  },
  {
   "cell_type": "code",
   "execution_count": null,
   "metadata": {},
   "outputs": [],
   "source": [
    "### Start Code Here ###\n",
    "def set_words_as_keys():    \n",
    "    return\n",
    "###  End Code Here  ###"
   ]
  },
  {
   "cell_type": "markdown",
   "metadata": {},
   "source": [
    "**Exercise 2: Write a function that categorizes each mail message by which\n",
    "day of the week the commit was done. To do this look for lines that\n",
    "start with \"From\", then look for the third word and keep a running count\n",
    "of each of the days of the week. At the end of the function print out the\n",
    "contents of your dictionary (order does not matter).**\n",
    "\n",
    "**Sample Line:**\n",
    "\n",
    "~~~~\n",
    "From stephen.marquard@uct.ac.za Sat Jan  5 09:14:16 2008\n",
    "~~~~\n",
    "\n",
    "**Sample Execution:**\n",
    "\n",
    "~~~~\n",
    "Enter a file name: mbox-short.txt\n",
    "{'Fri': 20, 'Thu': 6, 'Sat': 1}\n",
    "~~~~\n"
   ]
  },
  {
   "cell_type": "code",
   "execution_count": null,
   "metadata": {},
   "outputs": [],
   "source": [
    "### Start Code Here ###\n",
    "def count_days():    \n",
    "    return\n",
    "###  End Code Here  ###"
   ]
  },
  {
   "cell_type": "markdown",
   "metadata": {},
   "source": [
    "**Exercise 3: Write a function to read through a mail log, build a\n",
    "histogram using a dictionary to count how many messages have come from\n",
    "each email address, and print the dictionary.**\n",
    "\n",
    "~~~~\n",
    "Enter file name: mbox-short.txt\n",
    "{'gopal.ramasammycook@gmail.com': 1, 'louis@media.berkeley.edu': 3,\n",
    "'cwen@iupui.edu': 5, 'antranig@caret.cam.ac.uk': 1,\n",
    "'rjlowe@iupui.edu': 2, 'gsilver@umich.edu': 3,\n",
    "'david.horwitz@uct.ac.za': 4, 'wagnermr@iupui.edu': 1,\n",
    "'zqian@umich.edu': 4, 'stephen.marquard@uct.ac.za': 2,\n",
    "'ray@media.berkeley.edu': 1}\n",
    "~~~~"
   ]
  },
  {
   "cell_type": "code",
   "execution_count": null,
   "metadata": {},
   "outputs": [],
   "source": [
    "### Start Code Here ###\n",
    "def build_address_histogram():    \n",
    "    return\n",
    "###  End Code Here  ###"
   ]
  },
  {
   "cell_type": "markdown",
   "metadata": {},
   "source": [
    "**Exercise 4: Modify the above function to figure out who has the most messages in the file. After all the data has been read and the dictionary has been created, look through the dictionary using a maximum loop (see Chapter 5: Maximum and minimum loops) to find who has the most messages and print how many messages the person has.**\n",
    "\n",
    "~~~~\n",
    "Enter a file name: mbox-short.txt\n",
    "cwen@iupui.edu 5\n",
    "\n",
    "Enter a file name: mbox.txt\n",
    "zqian@umich.edu 195\n",
    "~~~~"
   ]
  },
  {
   "cell_type": "code",
   "execution_count": null,
   "metadata": {},
   "outputs": [],
   "source": [
    "### Start Code Here ###\n",
    "def find_most_address_messages():    \n",
    "    return\n",
    "###  End Code Here  ###"
   ]
  },
  {
   "cell_type": "markdown",
   "metadata": {},
   "source": [
    "**Exercise 5: This function records the domain name (instead of the\n",
    "address) where the message was sent from instead of who the mail came\n",
    "from (i.e., the whole email address). At the end of the program, print\n",
    "out the contents of your dictionary.**\n",
    "\n",
    "~~~~\n",
    "python schoolcount.py\n",
    "Enter a file name: mbox-short.txt\n",
    "{'media.berkeley.edu': 4, 'uct.ac.za': 6, 'umich.edu': 7,\n",
    "'gmail.com': 1, 'caret.cam.ac.uk': 1, 'iupui.edu': 8}\n",
    "~~~~"
   ]
  },
  {
   "cell_type": "code",
   "execution_count": null,
   "metadata": {},
   "outputs": [],
   "source": [
    "### Start Code Here ###\n",
    "def find_most_domain_messages():    \n",
    "    return\n",
    "###  End Code Here  ###"
   ]
  },
  {
   "cell_type": "code",
   "execution_count": null,
   "metadata": {},
   "outputs": [],
   "source": []
  }
 ],
 "metadata": {
  "kernelspec": {
   "display_name": "Python 3",
   "language": "python",
   "name": "python3"
  },
  "language_info": {
   "codemirror_mode": {
    "name": "ipython",
    "version": 3
   },
   "file_extension": ".py",
   "mimetype": "text/x-python",
   "name": "python",
   "nbconvert_exporter": "python",
   "pygments_lexer": "ipython3",
   "version": "3.8.3"
  }
 },
 "nbformat": 4,
 "nbformat_minor": 4
}
