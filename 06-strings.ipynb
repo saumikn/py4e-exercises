{
 "cells": [
  {
   "cell_type": "code",
   "execution_count": null,
   "metadata": {},
   "outputs": [],
   "source": [
    "from grader import *"
   ]
  },
  {
   "cell_type": "markdown",
   "metadata": {},
   "source": [
    "**Exercise 1: Write a `while` loop that starts at the last\n",
    "character in the string and works its way backwards to the first\n",
    "character in the string, printing each letter on a separate line, except\n",
    "backwards.**"
   ]
  },
  {
   "cell_type": "code",
   "execution_count": null,
   "metadata": {},
   "outputs": [],
   "source": [
    "exercise = 'Exercise 6.1'\n",
    "\n",
    "### Start Code Here ###\n",
    "\n",
    "###  End Code Here  ###"
   ]
  },
  {
   "cell_type": "code",
   "execution_count": null,
   "metadata": {},
   "outputs": [],
   "source": [
    "check_exercise('Exercise 6.1')"
   ]
  },
  {
   "cell_type": "markdown",
   "metadata": {},
   "source": [
    "**Exercise 2: Given that `fruit` is a string, what does\n",
    "`fruit[:]` mean?**"
   ]
  },
  {
   "cell_type": "raw",
   "metadata": {},
   "source": [
    "fruit[:] means ..."
   ]
  },
  {
   "cell_type": "markdown",
   "metadata": {},
   "source": [
    "The following program counts the number of times the letter\n",
    "\"a\" appears in a string:\n",
    "\n",
    "~~~~ {.python}\n",
    "word = 'banana'\n",
    "count = 0\n",
    "for letter in word:\n",
    "    if letter == 'a':\n",
    "        count = count + 1\n",
    "print(count)\n",
    "~~~~\n",
    "\n",
    "This program demonstrates another pattern of computation called a\n",
    "*counter*. The variable `count` is initialized\n",
    "to 0 and then incremented each time an \"a\" is found. When the\n",
    "loop exits, `count` contains the result: the total number of\n",
    "a's.\n",
    "\n",
    "**Exercise 3: Encapsulate this code in a function named `count`, and\n",
    "generalize it so that it accepts the string and the letter as arguments.**"
   ]
  },
  {
   "cell_type": "code",
   "execution_count": 1,
   "metadata": {},
   "outputs": [],
   "source": [
    "exercise = 'Exercise 6.3'\n",
    "\n",
    "### Start Code Here ###\n",
    "\n",
    "###  End Code Here  ###"
   ]
  },
  {
   "cell_type": "code",
   "execution_count": null,
   "metadata": {},
   "outputs": [],
   "source": [
    "check_exercise('Exercise 6.3')"
   ]
  },
  {
   "cell_type": "markdown",
   "metadata": {},
   "source": [
    "**Exercise 4: There is a string method called `count` that is similar to\n",
    "the function in the previous exercise. Read the documentation of this\n",
    "method at: <https://docs.python.org/library/stdtypes.html#string-methods>. Write an invocation that counts the number of times the letter a occurs\n",
    "in \"banana\".**"
   ]
  },
  {
   "cell_type": "code",
   "execution_count": null,
   "metadata": {},
   "outputs": [],
   "source": [
    "exercise = 'Exercise 6.4'\n",
    "\n",
    "### Start Code Here ###\n",
    "\n",
    "###  End Code Here  ###"
   ]
  },
  {
   "cell_type": "code",
   "execution_count": null,
   "metadata": {},
   "outputs": [],
   "source": [
    "check_exercise('Exercise 6.4')"
   ]
  },
  {
   "cell_type": "markdown",
   "metadata": {},
   "source": [
    "**Exercise 5: Take the following Python code that stores a string:**\n",
    "\n",
    "`str = 'X-DSPAM-Confidence:0.8475'`\n",
    "\n",
    "**Use `find` and string slicing to extract the portion of the\n",
    "string after the colon character and then use the `float`\n",
    "function to convert the extracted string into a floating point number.**"
   ]
  },
  {
   "cell_type": "code",
   "execution_count": null,
   "metadata": {},
   "outputs": [],
   "source": [
    "exercise = 'Exercise 6.5'\n",
    "\n",
    "### Start Code Here ###\n",
    "\n",
    "###  End Code Here  ###"
   ]
  },
  {
   "cell_type": "code",
   "execution_count": null,
   "metadata": {},
   "outputs": [],
   "source": [
    "check_exercise('Exercise 6.5')"
   ]
  },
  {
   "cell_type": "markdown",
   "metadata": {},
   "source": [
    "**Exercise 6: Read the documentation of the string methods at\n",
    "<https://docs.python.org/library/stdtypes.html#string-methods>\n",
    "You might want to experiment with some of them to make sure you understand\n",
    "how they work. `strip` and `replace` are\n",
    "particularly useful.**\n",
    "\n",
    "**The documentation uses a syntax that might be confusing. For example, in\n",
    "`find(sub[, start[, end]])`, the brackets indicate optional arguments.\n",
    "So `sub` is required, but `start` is optional, and\n",
    "if you include `start`, then `end` is optional.**"
   ]
  },
  {
   "cell_type": "code",
   "execution_count": null,
   "metadata": {},
   "outputs": [],
   "source": [
    "### Try out what you've learned!\n"
   ]
  }
 ],
 "metadata": {
  "kernelspec": {
   "display_name": "Python 3",
   "language": "python",
   "name": "python3"
  },
  "language_info": {
   "codemirror_mode": {
    "name": "ipython",
    "version": 3
   },
   "file_extension": ".py",
   "mimetype": "text/x-python",
   "name": "python",
   "nbconvert_exporter": "python",
   "pygments_lexer": "ipython3",
   "version": "3.8.3"
  }
 },
 "nbformat": 4,
 "nbformat_minor": 4
}
