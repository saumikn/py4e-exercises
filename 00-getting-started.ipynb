{
 "cells": [
  {
   "cell_type": "markdown",
   "metadata": {},
   "source": [
    "# How to use Jupyter\n",
    "\n",
    "Here, I'll just provide a quick overview of how to get started working on the exercises. If you're interested in learning more about how Jupyter works, check out the full [Documentation](https://jupyter-notebook.readthedocs.io/en/stable/notebook.html).\n",
    "\n",
    "**For this section, I reccomend that you actually open this notebook in a Jupyter Notebook session, and follow along so you start to get practice with Jupyter.**\n",
    "\n",
    "Each excercise is written in a Markdown cell. [Markdown](https://www.markdownguide.org/basic-syntax/) is a special formatting language which allows people to display formatted text (things like bullet points, headers, or code blocks).\n",
    "\n",
    "Markdown has two views - read and edit. By default, Jupyter should display the read mode. However, if you double-click on a Markdown cell, it may switch to edit mode. To go back to view mode, just click on the cell and press shift and enter at the same time. **Try double-clicking on this cell to switch to edit mode, and press shift-enter to switch back to view mode.**\n",
    "\n",
    "In the PY4E course, there are three types of exercises - free response, multiple choice, and coding. \n",
    "\n",
    "Free response exercises ask the student to just answer a question or explain a topic in their own words. These questions don't have an autograder built in, but you should still complete these questions the best you can! **Try answering the next question:**"
   ]
  },
  {
   "cell_type": "markdown",
   "metadata": {},
   "source": [
    "**Exercise 1: Why do you want to learn coding?**"
   ]
  },
  {
   "cell_type": "raw",
   "metadata": {},
   "source": [
    "Answer: I want to learn coding because ..."
   ]
  },
  {
   "cell_type": "markdown",
   "metadata": {},
   "source": [
    "The next two types of exercises - multiple choice and coding - both have grader capabilities. At the top of each notebook, there will be a code cell which looks like this:"
   ]
  },
  {
   "cell_type": "code",
   "execution_count": null,
   "metadata": {},
   "outputs": [],
   "source": [
    "# Make sure to run this cell to load the autograder!\n",
    "from grader import check_exercise"
   ]
  },
  {
   "cell_type": "markdown",
   "metadata": {},
   "source": [
    "In order to enable the autograder, you must run this cell. You can run code cells by clicking on the cell and then pressing shift-enter. **Try running the above cell**. Once you've done this, there should be a number on the left side of the cell, which will look something like `[1]`.\n",
    "\n",
    "---"
   ]
  },
  {
   "cell_type": "markdown",
   "metadata": {},
   "source": [
    "Multiple choice exercises will consist of two cells - a Markdown problem cell, and a code cell where you put your answer. The answer cell will start of with a line that looks something like `exercise = 'Exercise 0.2'`. This line tells the autograder which problem you're trying to solve. Next, there are a pair of lines that look like `### Begin Answer Here ###` and `###  End Answer Here  ###`.\n",
    "\n",
    "Not surprisingly, in between these lines is where your answer goes. When you put your answer down, **the letter should be surrounded by single quotes**, so it will look like `answer = 'a'`, `'answer = 'b'`, `answer = 'c'`, or `answer = 'd'`.\n",
    "\n",
    "Finally, the cell will print out the answer you put, so the autograder can grade your solution.\n",
    "\n",
    "Try solving the next exercise:"
   ]
  },
  {
   "cell_type": "markdown",
   "metadata": {},
   "source": [
    "**Exercise 2: What is 2 + 2?**\n",
    "\n",
    "a\\) 2\\\n",
    "b) 3\\\n",
    "c) 4\\\n",
    "d) 5"
   ]
  },
  {
   "cell_type": "code",
   "execution_count": null,
   "metadata": {},
   "outputs": [],
   "source": [
    "exercise = 'Exercise 0.2'\n",
    "\n",
    "### Begin Answer Here ###\n",
    "\n",
    "# Replace 'a' with the correct answer!\n",
    "answer = 'a'\n",
    "\n",
    "###  End Answer Here  ###\n",
    "\n",
    "print(repr(answer))"
   ]
  },
  {
   "cell_type": "markdown",
   "metadata": {},
   "source": [
    "Once you've solved the exercise, you can check your answer by running the following cell. **Make sure to save the notebook before checking your answer**, otherwise the autograder won't see your most recent changes. You can save your notebook by running File → Save."
   ]
  },
  {
   "cell_type": "code",
   "execution_count": null,
   "metadata": {},
   "outputs": [],
   "source": [
    "# Make sure to save your notebook before checking!\n",
    "check_exercise('Exercise 0.2')"
   ]
  },
  {
   "cell_type": "markdown",
   "metadata": {},
   "source": [
    "Did you get the answer correct?\n",
    "* If you got it correct, you will get a message that says `'All tests passed!'`\n",
    "* If you got it wrong, you will get a message that says `Error: Wrong answer`\n",
    "* If you didn't answer the question at all (or you forgot to save before checking your answer), you will get a message that says `SyntaxError: invalid syntax`\n",
    "\n",
    "---\n",
    "\n",
    "Coding exercises are very similar to multiple-choice exercises. The cell will start with a line which looks like `exercise = 'Exercise 0.3'`, and have two lines that say `### Start Code Here ###` and `###  End Code Here  ###`\n",
    "\n",
    "The only difference is that instead of writing a single letter between those lines, you'll have to write your own Python program! Sometimes I will start you off with some code for you to modify, and sometimes you will have to write the entire answer from scratch. Try running the next code block (without fixing the typo), and checking the exercise."
   ]
  },
  {
   "cell_type": "markdown",
   "metadata": {},
   "source": [
    "**Exercise 3: Fix the typo in the following Python program (instead of printing `Hellow orld!`, you should print `Hello World!`). You'll find out what how this Python program actually works next lesson.**"
   ]
  },
  {
   "cell_type": "code",
   "execution_count": null,
   "metadata": {},
   "outputs": [],
   "source": [
    "exercise = 'Exercise 0.3'\n",
    "\n",
    "### Begin Answer Here ###\n",
    "print('Hellow orld!')\n",
    "###  End Answer Here  ###"
   ]
  },
  {
   "cell_type": "code",
   "execution_count": null,
   "metadata": {},
   "outputs": [],
   "source": [
    "# Make sure to save your notebook before checking!\n",
    "check_exercise('Exercise 0.3')"
   ]
  },
  {
   "cell_type": "markdown",
   "metadata": {},
   "source": [
    "You should have gotten a few lines which say that your code printed the wrong value, show the value that the autograder expected your code to print (`'Hello World!\\n'`), and what your code actually printed (`'Hellow orld!\\n'`). Note that `\\n` represents the [newline](https://en.wikipedia.org/wiki/Newline) character, which you can just ignore.\n",
    "\n",
    "After you've run the program and seen the error, try solving the exercise by fixing the typo in the program. Once you know how to solve this exercise, you're ready to get started with the rest of the course! Good luck with the exercises and happy Pythoning!"
   ]
  }
 ],
 "metadata": {
  "kernelspec": {
   "display_name": "Python 3",
   "language": "python",
   "name": "python3"
  },
  "language_info": {
   "codemirror_mode": {
    "name": "ipython",
    "version": 3
   },
   "file_extension": ".py",
   "mimetype": "text/x-python",
   "name": "python",
   "nbconvert_exporter": "python",
   "pygments_lexer": "ipython3",
   "version": "3.8.3"
  }
 },
 "nbformat": 4,
 "nbformat_minor": 4
}
