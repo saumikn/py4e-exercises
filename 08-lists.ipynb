{
 "cells": [
  {
   "cell_type": "code",
   "execution_count": null,
   "metadata": {},
   "outputs": [],
   "source": [
    "from grader import *"
   ]
  },
  {
   "cell_type": "markdown",
   "metadata": {},
   "source": [
    "**Exercise 1: Write a function called `chop` that takes a list and modifies\n",
    "it, removing the first and last elements, and returns `None`. Then write a function called `middle` that takes a list and returns a new list that contains all but the first and last elements.**"
   ]
  },
  {
   "cell_type": "code",
   "execution_count": null,
   "metadata": {},
   "outputs": [],
   "source": [
    "exercise = 'Exercise 8.1.1'\n",
    "\n",
    "user_lst = input('Enter a comma-seperated list: ')\n",
    "user_lst = user_lst.split(',')\n",
    "\n",
    "### Start Code Here ###\n",
    "\n",
    "###  End Code Here  ###\n",
    "\n",
    "chop(user_lst)\n",
    "print(user_lst)"
   ]
  },
  {
   "cell_type": "code",
   "execution_count": null,
   "metadata": {},
   "outputs": [],
   "source": [
    "# Make sure to save your notebook before checking!\n",
    "check_exercise('Exercise 8.1.1')"
   ]
  },
  {
   "cell_type": "code",
   "execution_count": null,
   "metadata": {},
   "outputs": [],
   "source": [
    "exercise = 'Exercise 8.1.2'\n",
    "\n",
    "user_lst = input('Enter a comma-seperated list: ')\n",
    "user_lst = user_lst.split(',')\n",
    "\n",
    "### Start Code Here ###\n",
    "\n",
    "###  End Code Here  ###\n",
    "\n",
    "result = middle(user_lst)\n",
    "print(result)"
   ]
  },
  {
   "cell_type": "code",
   "execution_count": null,
   "metadata": {},
   "outputs": [],
   "source": [
    "# Make sure to save your notebook before checking!\n",
    "check_exercise('Exercise 8.1.2')"
   ]
  },
  {
   "cell_type": "markdown",
   "metadata": {},
   "source": [
    "**Exercise 2: Figure out which line of the below function is still not\n",
    "properly guarded. See if you can construct a text file which causes\n",
    "the program to fail and then modify the program so that the line is\n",
    "properly guarded and test it to make sure it handles your new text\n",
    "file.**"
   ]
  },
  {
   "cell_type": "code",
   "execution_count": null,
   "metadata": {},
   "outputs": [],
   "source": [
    "exercise = 'Exercise 8.2.1'\n",
    "\n",
    "# Origial file\n",
    "# fhand = open('mbox-short.txt')\n",
    "\n",
    "# Edit the file program-fail.txt so that the rest of the code fails!\n",
    "fhand = open('program-fail.txt')\n",
    "\n",
    "count = 0\n",
    "for line in fhand:\n",
    "    words = line.split()\n",
    "    # print('Debug:', words)\n",
    "    if len(words) == 0:\n",
    "        continue\n",
    "    if words[0] != 'From':\n",
    "        continue\n",
    "    print(words[2])"
   ]
  },
  {
   "cell_type": "code",
   "execution_count": null,
   "metadata": {},
   "outputs": [],
   "source": [
    "# Make sure to save your notebook before checking!\n",
    "check_exercise('Exercise 8.2.1')"
   ]
  },
  {
   "cell_type": "code",
   "execution_count": null,
   "metadata": {},
   "outputs": [],
   "source": [
    "exercise = 'Exercise 8.2.2'\n",
    "\n",
    "# Origial file\n",
    "# fhand = open('mbox-short.txt')\n",
    "\n",
    "fhand = open('program-fail.txt')\n",
    "\n",
    "# Fix this code so the code doesn't fail!\n",
    "### Start Code Here ###\n",
    "count = 0\n",
    "for line in fhand:\n",
    "    words = line.split()\n",
    "    # print('Debug:', words)\n",
    "    if len(words) == 0:\n",
    "        continue\n",
    "    if words[0] != 'From':\n",
    "        continue\n",
    "    print(words[2])\n",
    "###  End Code Here  ###"
   ]
  },
  {
   "cell_type": "code",
   "execution_count": null,
   "metadata": {},
   "outputs": [],
   "source": [
    "# Make sure to save your notebook before checking!\n",
    "check_exercise('Exercise 8.2.2')"
   ]
  },
  {
   "cell_type": "markdown",
   "metadata": {},
   "source": [
    "**Exercise 3: Rewrite the guardian code in the below function without\n",
    "two `if` statements. Instead, use a compound logical\n",
    "expression using the `or` logical operator with a single\n",
    "`if` statement.**\n"
   ]
  },
  {
   "cell_type": "code",
   "execution_count": null,
   "metadata": {},
   "outputs": [],
   "source": [
    "exercise = 'Exercise 8.3'\n",
    "\n",
    "### Start Code Here ###\n",
    "fhand = open('mbox-short.txt')\n",
    "count = 0\n",
    "for line in fhand:\n",
    "    words = line.split()\n",
    "    # print('Debug:', words)\n",
    "    if len(words) == 0:\n",
    "        continue\n",
    "    if words[0] != 'From':\n",
    "        continue\n",
    "    print(words[2])\n",
    "###  End Code Here  ###"
   ]
  },
  {
   "cell_type": "code",
   "execution_count": null,
   "metadata": {},
   "outputs": [],
   "source": [
    "# This problem can't be auto-graded"
   ]
  },
  {
   "cell_type": "markdown",
   "metadata": {},
   "source": [
    "**Exercise 4: Write a program to open a file and read it line\n",
    "by line. For each line, split the line into a list of words using the\n",
    "`split` function. For each word, check to see if the word is already in a list. If the word is not in the list, add it to the list.\n",
    "When the program completes, sort and print the resulting words in\n",
    "alphabetical order.**\n",
    "\n",
    "~~~~\n",
    "Enter file: romeo.txt\n",
    "['Arise', 'But', 'It', 'Juliet', 'Who', 'already',\n",
    "'and', 'breaks', 'east', 'envious', 'fair', 'grief',\n",
    "'is', 'kill', 'light', 'moon', 'pale', 'sick', 'soft',\n",
    "'sun', 'the', 'through', 'what', 'window',\n",
    "'with', 'yonder']\n",
    "~~~~\n"
   ]
  },
  {
   "cell_type": "code",
   "execution_count": null,
   "metadata": {},
   "outputs": [],
   "source": [
    "exercise = 'Exercise 8.4'\n",
    "\n",
    "### Start Code Here ###\n",
    "\n",
    "###  End Code Here  ###"
   ]
  },
  {
   "cell_type": "code",
   "execution_count": null,
   "metadata": {},
   "outputs": [],
   "source": [
    "# Make sure to save your notebook before checking!\n",
    "check_exercise('Exercise 8.4')"
   ]
  },
  {
   "cell_type": "markdown",
   "metadata": {},
   "source": [
    "**Exercise 5: Write a program to read through the mail box data and when\n",
    "you find line that starts with \"From\", you will split the line into\n",
    "words using the `split` function. We are interested in who\n",
    "sent the message, which is the second word on the From line.**\n",
    "\n",
    "~~~~\n",
    "From stephen.marquard@uct.ac.za Sat Jan 5 09:14:16 2008\n",
    "~~~~\n",
    "\n",
    "**You will parse the From line and print out the second word for each From\n",
    "line, then you will also count the number of From (not From:) lines and\n",
    "print out a count at the end. This is a good sample output with a few lines removed:**\n",
    "\n",
    "~~~~\n",
    "Enter a file name: mbox-short.txt\n",
    "stephen.marquard@uct.ac.za\n",
    "louis@media.berkeley.edu\n",
    "zqian@umich.edu\n",
    "\n",
    "[...some output removed...]\n",
    "\n",
    "ray@media.berkeley.edu\n",
    "cwen@iupui.edu\n",
    "cwen@iupui.edu\n",
    "cwen@iupui.edu\n",
    "There were 27 lines in the file with From as the first word\n",
    "~~~~"
   ]
  },
  {
   "cell_type": "code",
   "execution_count": null,
   "metadata": {},
   "outputs": [],
   "source": [
    "exercise = 'Exercise 8.5'\n",
    "\n",
    "### Start Code Here ###\n",
    "\n",
    "###  End Code Here  ###"
   ]
  },
  {
   "cell_type": "code",
   "execution_count": null,
   "metadata": {},
   "outputs": [],
   "source": [
    "# Make sure to save your notebook before checking!\n",
    "check_exercise('Exercise 8.5')"
   ]
  },
  {
   "cell_type": "markdown",
   "metadata": {},
   "source": [
    "**Exercise 6: Rewrite the program that prompts the user for a list of\n",
    "numbers and prints out the maximum and minimum of the numbers at the end\n",
    "when the user enters \"done\". Write the program to store the numbers the\n",
    "user enters in a list and use the `max()` and\n",
    "`min()` functions to compute the maximum and minimum numbers\n",
    "after the loop completes.**\n",
    "\n",
    "~~~~\n",
    "Enter a number: 6\n",
    "Enter a number: 2\n",
    "Enter a number: 9\n",
    "Enter a number: 3\n",
    "Enter a number: 5\n",
    "Enter a number: done\n",
    "Maximum: 9.0\n",
    "Minimum: 2.0\n",
    "~~~~"
   ]
  },
  {
   "cell_type": "code",
   "execution_count": null,
   "metadata": {},
   "outputs": [],
   "source": [
    "exercise = 'Exercise 8.6'\n",
    "\n",
    "### Start Code Here ###\n",
    "\n",
    "###  End Code Here  ###"
   ]
  },
  {
   "cell_type": "code",
   "execution_count": null,
   "metadata": {},
   "outputs": [],
   "source": [
    "# Make sure to save your notebook before checking!\n",
    "check_exercise('Exercise 8.6')"
   ]
  }
 ],
 "metadata": {
  "kernelspec": {
   "display_name": "Python 3",
   "language": "python",
   "name": "python3"
  },
  "language_info": {
   "codemirror_mode": {
    "name": "ipython",
    "version": 3
   },
   "file_extension": ".py",
   "mimetype": "text/x-python",
   "name": "python",
   "nbconvert_exporter": "python",
   "pygments_lexer": "ipython3",
   "version": "3.8.3"
  }
 },
 "nbformat": 4,
 "nbformat_minor": 4
}
