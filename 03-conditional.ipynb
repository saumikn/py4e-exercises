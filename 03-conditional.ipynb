{
 "cells": [
  {
   "cell_type": "markdown",
   "metadata": {},
   "source": [
    "#### Before you start working on these exercises, make sure you've watched the videos, done the reading, and taken the quiz!\n",
    "\n",
    "General Resources:\n",
    "* [Main PY4E Website](https://www.py4e.com)\n",
    "* [Full Textbook PDF](http://do1.dr-chuck.com/pythonlearn/EN_us/pythonlearn.pdf)\n",
    "* [Full Youtube Playlist](https://www.youtube.com/playlist?list=PLlRFEj9H3Oj7Bp8-DfGpfAfDBiblRfl5p)\n",
    "\n",
    "Lesson 3 Resources:\n",
    "* [Lesson Page](https://www.py4e.com/lessons/logic)\n",
    "* [Video 3.1](https://www.youtube.com/watch?v=2aA3VBdcl6A&list=PLlRFEj9H3Oj7Bp8-DfGpfAfDBiblRfl5p&index=15)\n",
    "* [Video 3.2](https://www.youtube.com/watch?v=OczkNrHPBps&list=PLlRFEj9H3Oj7Bp8-DfGpfAfDBiblRfl5p&index=16)\n",
    "* [Lesson Slides](https://www.py4e.com/lectures3/Pythonlearn-03-Conditional.pptx)\n",
    "* [Textbook Chapter 3](https://www.py4e.com/html3/03-conditional)\n",
    "* [Link to Quiz (must be logged in)](https://www.py4e.com/lessons_launch/py4e_03_if_quiz)\n",
    "* If you're feeling stuck on exercises 3.1 and 3.2, worked solutions are available on the lesson page and Youtube"
   ]
  },
  {
   "cell_type": "code",
   "execution_count": null,
   "metadata": {},
   "outputs": [],
   "source": [
    "# Make sure to run this cell to load the autograder!\n",
    "from grader import *"
   ]
  },
  {
   "cell_type": "markdown",
   "metadata": {},
   "source": [
    "**Exercise 1: Rewrite your pay computation to give the employee 1.5 times\n",
    "the hourly rate for hours worked above 40 hours.**\n",
    "\n",
    "~~~~\n",
    "Enter Hours: 35\n",
    "Enter Rate: 2.75\n",
    "Pay: 96.25\n",
    "~~~~\n",
    "\n",
    "~~~~\n",
    "Enter Hours: 45\n",
    "Enter Rate: 10\n",
    "Pay: 475.0\n",
    "~~~~"
   ]
  },
  {
   "cell_type": "code",
   "execution_count": null,
   "metadata": {},
   "outputs": [],
   "source": [
    "exercise = 'Exercise 3.1'\n",
    "\n",
    "### Start Code Here ###\n",
    "\n",
    "###  End Code Here  ###"
   ]
  },
  {
   "cell_type": "code",
   "execution_count": null,
   "metadata": {},
   "outputs": [],
   "source": [
    "# Make sure to save your notebook before checking!\n",
    "check_exercise('Exercise 3.1')"
   ]
  },
  {
   "cell_type": "markdown",
   "metadata": {},
   "source": [
    "**Exercise 2: Rewrite your pay program using `try` and\n",
    "`except` so that your program handles non-numeric input\n",
    "gracefully by printing a message and exiting the program. The following\n",
    "shows two executions of the program:**\n",
    "\n",
    "~~~~\n",
    "Enter Hours: 20\n",
    "Enter Rate: nine\n",
    "Error, please enter numeric input\n",
    "~~~~\n",
    "\n",
    "~~~~\n",
    "Enter Hours: forty\n",
    "Error, please enter numeric input\n",
    "~~~~"
   ]
  },
  {
   "cell_type": "code",
   "execution_count": null,
   "metadata": {},
   "outputs": [],
   "source": [
    "exercise = 'Exercise 3.2'\n",
    "\n",
    "### Start Code Here ###\n",
    "\n",
    "###  End Code Here  ###"
   ]
  },
  {
   "cell_type": "code",
   "execution_count": null,
   "metadata": {},
   "outputs": [],
   "source": [
    "# Make sure to save your notebook before checking!\n",
    "check_exercise('Exercise 3.2')"
   ]
  },
  {
   "cell_type": "markdown",
   "metadata": {},
   "source": [
    "**Exercise 3: Write a program to prompt for a score between 0.0 and 1.0.\n",
    "If the score is out of range, print an error message. If the score is\n",
    "between 0.0 and 1.0, print a grade using the following table:**\n",
    "\n",
    "~~~~\n",
    " Score   Grade\n",
    ">= 0.9     A\n",
    ">= 0.8     B\n",
    ">= 0.7     C\n",
    ">= 0.6     D\n",
    " < 0.6     F\n",
    "~~~~\n",
    "\n",
    "~~~~\n",
    "Enter score: 0.95\n",
    "A\n",
    "~~~~\n",
    "\n",
    "~~~~\n",
    "Enter score: perfect\n",
    "Bad score\n",
    "~~~~\n",
    "\n",
    "~~~~\n",
    "Enter score: 10.0\n",
    "Bad score\n",
    "~~~~\n",
    "\n",
    "~~~~\n",
    "Enter score: 0.75\n",
    "C\n",
    "~~~~\n",
    "\n",
    "~~~~\n",
    "Enter score: 0.5\n",
    "F\n",
    "~~~~\n",
    "\n",
    "Run the program repeatedly as shown above to test the various different\n",
    "values for input."
   ]
  },
  {
   "cell_type": "code",
   "execution_count": null,
   "metadata": {},
   "outputs": [],
   "source": [
    "exercise = 'Exercise 3.3'\n",
    "\n",
    "### Start Code Here ###\n",
    "\n",
    "###  End Code Here  ###"
   ]
  },
  {
   "cell_type": "code",
   "execution_count": null,
   "metadata": {},
   "outputs": [],
   "source": [
    "# Make sure to save your notebook before checking!\n",
    "check_exercise('Exercise 3.3')"
   ]
  }
 ],
 "metadata": {
  "kernelspec": {
   "display_name": "Python 3",
   "language": "python",
   "name": "python3"
  },
  "language_info": {
   "codemirror_mode": {
    "name": "ipython",
    "version": 3
   },
   "file_extension": ".py",
   "mimetype": "text/x-python",
   "name": "python",
   "nbconvert_exporter": "python",
   "pygments_lexer": "ipython3",
   "version": "3.8.3"
  }
 },
 "nbformat": 4,
 "nbformat_minor": 4
}
