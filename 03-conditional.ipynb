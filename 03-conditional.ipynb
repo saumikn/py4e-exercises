{
 "cells": [
  {
   "cell_type": "code",
   "execution_count": null,
   "metadata": {},
   "outputs": [],
   "source": [
    "from grader import *"
   ]
  },
  {
   "cell_type": "markdown",
   "metadata": {},
   "source": [
    "**Exercise 1: Rewrite your pay computation to give the employee 1.5 times\n",
    "the hourly rate for hours worked above 40 hours.**\n",
    "\n",
    "~~~~\n",
    "Enter Hours: 45\n",
    "Enter Rate: 10\n",
    "Pay: 475.0\n",
    "~~~~"
   ]
  },
  {
   "cell_type": "code",
   "execution_count": null,
   "metadata": {},
   "outputs": [],
   "source": [
    "exercise = 'Exercise 3.1'\n",
    "\n",
    "### Start Code Here ###\n",
    "\n",
    "###  End Code Here  ###"
   ]
  },
  {
   "cell_type": "code",
   "execution_count": null,
   "metadata": {},
   "outputs": [],
   "source": [
    "check_exercise('Exercise 3.1')"
   ]
  },
  {
   "cell_type": "markdown",
   "metadata": {},
   "source": [
    "**Exercise 2: Rewrite your pay program using `try` and\n",
    "`except` so that your program handles non-numeric input\n",
    "gracefully by printing a message and exiting the program. The following\n",
    "shows two executions of the program:**\n",
    "\n",
    "~~~~\n",
    "Enter Hours: 20\n",
    "Enter Rate: nine\n",
    "Error, please enter numeric input\n",
    "~~~~\n",
    "\n",
    "~~~~\n",
    "Enter Hours: forty\n",
    "Error, please enter numeric input\n",
    "~~~~"
   ]
  },
  {
   "cell_type": "code",
   "execution_count": null,
   "metadata": {},
   "outputs": [],
   "source": [
    "exercise = 'Exercise 3.2'\n",
    "\n",
    "### Start Code Here ###\n",
    "\n",
    "###  End Code Here  ###"
   ]
  },
  {
   "cell_type": "code",
   "execution_count": null,
   "metadata": {},
   "outputs": [],
   "source": [
    "check_exercise('Exercise 3.2')"
   ]
  },
  {
   "cell_type": "markdown",
   "metadata": {},
   "source": [
    "**Exercise 3: Write a program to prompt for a score between 0.0 and 1.0.\n",
    "If the score is out of range, print an error message. If the score is\n",
    "between 0.0 and 1.0, print a grade using the following table:**\n",
    "\n",
    "~~~~\n",
    " Score   Grade\n",
    ">= 0.9     A\n",
    ">= 0.8     B\n",
    ">= 0.7     C\n",
    ">= 0.6     D\n",
    " < 0.6     F\n",
    "~~~~\n",
    "\n",
    "~~~~\n",
    "Enter score: 0.95\n",
    "A\n",
    "~~~~\n",
    "\n",
    "~~~~\n",
    "Enter score: perfect\n",
    "Bad score\n",
    "~~~~\n",
    "\n",
    "~~~~\n",
    "Enter score: 10.0\n",
    "Bad score\n",
    "~~~~\n",
    "\n",
    "~~~~\n",
    "Enter score: 0.75\n",
    "C\n",
    "~~~~\n",
    "\n",
    "~~~~\n",
    "Enter score: 0.5\n",
    "F\n",
    "~~~~\n",
    "\n",
    "Run the program repeatedly as shown above to test the various different\n",
    "values for input."
   ]
  },
  {
   "cell_type": "code",
   "execution_count": null,
   "metadata": {},
   "outputs": [],
   "source": [
    "exercise = 'Exercise 3.3'\n",
    "\n",
    "### Start Code Here ###\n",
    "\n",
    "###  End Code Here  ###"
   ]
  },
  {
   "cell_type": "code",
   "execution_count": null,
   "metadata": {},
   "outputs": [],
   "source": [
    "check_exercise('Exercise 3.3')"
   ]
  }
 ],
 "metadata": {
  "kernelspec": {
   "display_name": "Python 3",
   "language": "python",
   "name": "python3"
  },
  "language_info": {
   "codemirror_mode": {
    "name": "ipython",
    "version": 3
   },
   "file_extension": ".py",
   "mimetype": "text/x-python",
   "name": "python",
   "nbconvert_exporter": "python",
   "pygments_lexer": "ipython3",
   "version": "3.8.3"
  }
 },
 "nbformat": 4,
 "nbformat_minor": 4
}
