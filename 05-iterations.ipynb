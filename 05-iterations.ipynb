{
 "cells": [
  {
   "cell_type": "markdown",
   "metadata": {},
   "source": [
    "#### Before you start working on these exercises, make sure you've watched the videos, done the reading, and taken the quiz!\n",
    "\n",
    "General Resources:\n",
    "* [Main PY4E Website](https://www.py4e.com)\n",
    "* [Full Textbook PDF](http://do1.dr-chuck.com/pythonlearn/EN_us/pythonlearn.pdf)\n",
    "* [Full Youtube Playlist](https://www.youtube.com/playlist?list=PLlRFEj9H3Oj7Bp8-DfGpfAfDBiblRfl5p)\n",
    "\n",
    "Lesson 5 Resources:\n",
    "* [Lesson Page](https://www.py4e.com/lessons/loops)\n",
    "* [Video 5.1](https://www.youtube.com/watch?v=FzpurxjwmsM&list=PLlRFEj9H3Oj7Bp8-DfGpfAfDBiblRfl5p&index=22)\n",
    "* [Video 5.2](https://www.youtube.com/watch?v=5QDrj5ogPYc&list=PLlRFEj9H3Oj7Bp8-DfGpfAfDBiblRfl5p&index=23)\n",
    "* [Video 5.3](https://www.youtube.com/watch?v=xsavQp8hd78&list=PLlRFEj9H3Oj7Bp8-DfGpfAfDBiblRfl5p&index=24)\n",
    "* [Video 5.4](https://www.youtube.com/watch?v=yjlMMwf9Y5I&list=PLlRFEj9H3Oj7Bp8-DfGpfAfDBiblRfl5p&index=25)\n",
    "* [Lesson Slides](https://www.py4e.com/lectures3/Pythonlearn-05-Iterations.pptx)\n",
    "* [Textbook Chapter 5](https://www.py4e.com/html3/05-iterations)\n",
    "* [Link to Quiz (must be logged in)](https://www.py4e.com/lessons_launch/py4e_05_for_quiz)\n",
    "* If you're feeling stuck on exercise 5.1, worked solutions are available on the lesson page and Youtube"
   ]
  },
  {
   "cell_type": "code",
   "execution_count": null,
   "metadata": {},
   "outputs": [],
   "source": [
    "# Make sure to run this cell to load the autograder!\n",
    "from grader import *"
   ]
  },
  {
   "cell_type": "markdown",
   "metadata": {},
   "source": [
    "**Exercise 1: Write a program which repeatedly reads numbers until the\n",
    "user enters \"done\". Once \"done\" is entered, print out the total, count,\n",
    "and average of the numbers. If the user enters anything other than a\n",
    "number, detect their mistake using `try` and\n",
    "`except` and print an error message and skip to the next\n",
    "number.**\n",
    "\n",
    "~~~~\n",
    "Enter a number: 4\n",
    "Enter a number: 5\n",
    "Enter a number: bad data\n",
    "Invalid input\n",
    "Enter a number: 7\n",
    "Enter a number: done\n",
    "16 3 5.333333333333333\n",
    "~~~~"
   ]
  },
  {
   "cell_type": "code",
   "execution_count": null,
   "metadata": {},
   "outputs": [],
   "source": [
    "exercise = 'Exercise 5.1'\n",
    "\n",
    "### Start Code Here ###\n",
    "\n",
    "###  End Code Here  ###"
   ]
  },
  {
   "cell_type": "code",
   "execution_count": null,
   "metadata": {},
   "outputs": [],
   "source": [
    "# Make sure to save your notebook before checking!\n",
    "check_exercise('Exercise 5.1')"
   ]
  },
  {
   "cell_type": "markdown",
   "metadata": {},
   "source": [
    "**Exercise 2: Write another program that prompts for a list of numbers as\n",
    "above and at the end prints out both the maximum and minimum of the\n",
    "numbers instead of the average.**\n",
    "\n",
    "~~~~\n",
    "Enter a number: 4\n",
    "Enter a number: 5\n",
    "Enter a number: bad data\n",
    "Invalid input\n",
    "Enter a number: 7\n",
    "Enter a number: done\n",
    "4 7\n",
    "~~~~"
   ]
  },
  {
   "cell_type": "code",
   "execution_count": null,
   "metadata": {},
   "outputs": [],
   "source": [
    "exercise = 'Exercise 5.2'\n",
    "\n",
    "### Start Code Here ###\n",
    "\n",
    "###  End Code Here  ###"
   ]
  },
  {
   "cell_type": "code",
   "execution_count": null,
   "metadata": {},
   "outputs": [],
   "source": [
    "# Make sure to save your notebook before checking!\n",
    "check_exercise('Exercise 5.2')"
   ]
  }
 ],
 "metadata": {
  "kernelspec": {
   "display_name": "Python 3",
   "language": "python",
   "name": "python3"
  },
  "language_info": {
   "codemirror_mode": {
    "name": "ipython",
    "version": 3
   },
   "file_extension": ".py",
   "mimetype": "text/x-python",
   "name": "python",
   "nbconvert_exporter": "python",
   "pygments_lexer": "ipython3",
   "version": "3.8.3"
  }
 },
 "nbformat": 4,
 "nbformat_minor": 4
}
