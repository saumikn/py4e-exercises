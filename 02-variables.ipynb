{
 "cells": [
  {
   "cell_type": "code",
   "execution_count": null,
   "metadata": {},
   "outputs": [],
   "source": [
    "from grader import *"
   ]
  },
  {
   "cell_type": "markdown",
   "metadata": {},
   "source": [
    "**Exercise 1: Run the following statmements to see what they do:**"
   ]
  },
  {
   "cell_type": "code",
   "execution_count": null,
   "metadata": {},
   "outputs": [],
   "source": [
    "5"
   ]
  },
  {
   "cell_type": "code",
   "execution_count": null,
   "metadata": {},
   "outputs": [],
   "source": [
    "x = 5"
   ]
  },
  {
   "cell_type": "code",
   "execution_count": null,
   "metadata": {},
   "outputs": [],
   "source": [
    "x + 1"
   ]
  },
  {
   "cell_type": "markdown",
   "metadata": {},
   "source": [
    "**Exercise 2: Write a program that uses `input` to prompt a user for\n",
    "their name and then welcomes them.**\n",
    "\n",
    "~~~~\n",
    "Enter your name: Chuck\n",
    "Hello Chuck\n",
    "~~~~"
   ]
  },
  {
   "cell_type": "code",
   "execution_count": null,
   "metadata": {},
   "outputs": [],
   "source": [
    "exercise = 'Exercise 2.2'\n",
    "\n",
    "### Start Code Here ###\n",
    "\n",
    "###  End Code Here  ###"
   ]
  },
  {
   "cell_type": "code",
   "execution_count": null,
   "metadata": {},
   "outputs": [],
   "source": [
    "check_exercise('Exercise 2.2')"
   ]
  },
  {
   "cell_type": "markdown",
   "metadata": {},
   "source": [
    "**Exercise 3: Write a program to prompt the user for hours and rate per\n",
    "hour to compute gross pay.**\n",
    "\n",
    "~~~~\n",
    "Enter Hours: 35\n",
    "Enter Rate: 2.75\n",
    "Pay: 96.25\n",
    "~~~~\n",
    "\n",
    "We won't worry about making sure our pay has exactly two digits after\n",
    "the decimal place for now. If you want, you can play with the built-in\n",
    "Python `round` function to properly round the resulting pay\n",
    "to two decimal places."
   ]
  },
  {
   "cell_type": "code",
   "execution_count": null,
   "metadata": {},
   "outputs": [],
   "source": [
    "exercise = 'Exercise 2.3'\n",
    "\n",
    "### Start Code Here ###\n",
    "\n",
    "###  End Code Here  ###"
   ]
  },
  {
   "cell_type": "code",
   "execution_count": null,
   "metadata": {},
   "outputs": [],
   "source": [
    "check_exercise('Exercise 2.3')"
   ]
  },
  {
   "cell_type": "markdown",
   "metadata": {},
   "source": [
    "**Exercise 4: Assume that we execute the following assignment statements:**\n",
    "\n",
    "~~~~\n",
    "width = 17\n",
    "height = 12.0\n",
    "~~~~\n",
    "\n",
    "For each of the following expressions, write the value of the expression\n",
    "and the type (of the value of the expression).\n",
    "\n",
    "1.  `width//2`\n",
    "\n",
    "2.  `width/2.0`\n",
    "\n",
    "3.  `height/3`\n",
    "\n",
    "4.  `1 + 2 * 5`\n",
    "\n",
    "Use the Python interpreter to check your answers."
   ]
  },
  {
   "cell_type": "code",
   "execution_count": null,
   "metadata": {},
   "outputs": [],
   "source": [
    "exercise = 'Exercise 2.3'\n",
    "\n",
    "### Start Code Here ###\n",
    "value_1 = \n",
    "type_1 = \n",
    "\n",
    "value_2 = \n",
    "type_1 = \n",
    "\n",
    "value_3 = \n",
    "type_3 = \n",
    "\n",
    "value_4 = \n",
    "type_4 = \n",
    "###  End Code Here  ###"
   ]
  },
  {
   "cell_type": "code",
   "execution_count": null,
   "metadata": {},
   "outputs": [],
   "source": [
    "check_exercise('Exercise 2.4')"
   ]
  },
  {
   "cell_type": "markdown",
   "metadata": {},
   "source": [
    "**Exercise 5: Write a program which prompts the user for a Celsius\n",
    "temperature, convert the temperature to Fahrenheit, and print out the\n",
    "converted temperature.**"
   ]
  },
  {
   "cell_type": "code",
   "execution_count": null,
   "metadata": {},
   "outputs": [],
   "source": [
    "exercise = 'Exercise 2.5'\n",
    "\n",
    "### Start Code Here ###\n",
    "\n",
    "###  End Code Here  ###"
   ]
  },
  {
   "cell_type": "code",
   "execution_count": null,
   "metadata": {},
   "outputs": [],
   "source": [
    "check_exercise('Exercise 2.5')"
   ]
  }
 ],
 "metadata": {
  "kernelspec": {
   "display_name": "Python 3",
   "language": "python",
   "name": "python3"
  },
  "language_info": {
   "codemirror_mode": {
    "name": "ipython",
    "version": 3
   },
   "file_extension": ".py",
   "mimetype": "text/x-python",
   "name": "python",
   "nbconvert_exporter": "python",
   "pygments_lexer": "ipython3",
   "version": "3.8.3"
  }
 },
 "nbformat": 4,
 "nbformat_minor": 4
}
