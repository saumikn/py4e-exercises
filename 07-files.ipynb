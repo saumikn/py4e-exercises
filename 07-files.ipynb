{
 "cells": [
  {
   "cell_type": "code",
   "execution_count": null,
   "metadata": {},
   "outputs": [],
   "source": [
    "from grader import *"
   ]
  },
  {
   "cell_type": "markdown",
   "metadata": {},
   "source": [
    "**Exercise 1: Write a program to read through a file and print the\n",
    "contents of the file (line by line) all in upper case. Executing the\n",
    "program will look as follows:**\n",
    "\n",
    "~~~~\n",
    "python shout.py\n",
    "Enter a file name: mbox-short.txt\n",
    "FROM STEPHEN.MARQUARD@UCT.AC.ZA SAT JAN  5 09:14:16 2008\n",
    "RETURN-PATH: <POSTMASTER@COLLAB.SAKAIPROJECT.ORG>\n",
    "RECEIVED: FROM MURDER (MAIL.UMICH.EDU [141.211.14.90])\n",
    "     BY FRANKENSTEIN.MAIL.UMICH.EDU (CYRUS V2.3.8) WITH LMTPA;\n",
    "     SAT, 05 JAN 2008 09:14:16 -0500\n",
    "~~~~"
   ]
  },
  {
   "cell_type": "code",
   "execution_count": null,
   "metadata": {},
   "outputs": [],
   "source": [
    "exercise = 'Exercise 7.1'\n",
    "\n",
    "### Start Code Here ###\n",
    "\n",
    "###  End Code Here  ###"
   ]
  },
  {
   "cell_type": "code",
   "execution_count": null,
   "metadata": {},
   "outputs": [],
   "source": [
    "check_exercise('Exercise 7.1')"
   ]
  },
  {
   "cell_type": "markdown",
   "metadata": {},
   "source": [
    "**Exercise 2: Write a program to prompt for a file name, and then read\n",
    "through the file and look for lines of the form:**\n",
    "\n",
    "~~~~\n",
    "X-DSPAM-Confidence: 0.8475\n",
    "~~~~\n",
    "\n",
    "**When you encounter a line that starts with \"X-DSPAM-Confidence:\" pull\n",
    "apart the line to extract the floating-point number on the line. Count\n",
    "these lines and then compute the total of the spam confidence values\n",
    "from these lines. When you reach the end of the file, print out the\n",
    "average spam confidence.**\n",
    "\n",
    "~~~~\n",
    "Enter the file name: mbox.txt\n",
    "Average spam confidence: 0.894128046745\n",
    "\n",
    "Enter the file name: mbox-short.txt\n",
    "Average spam confidence: 0.750718518519\n",
    "~~~~\n",
    "\n",
    "**Test your file on the *mbox.txt* and *mbox-short.txt* files.**"
   ]
  },
  {
   "cell_type": "code",
   "execution_count": null,
   "metadata": {},
   "outputs": [],
   "source": [
    "exercise = 'Exercise 7.2'\n",
    "\n",
    "### Start Code Here ###\n",
    "\n",
    "###  End Code Here  ###"
   ]
  },
  {
   "cell_type": "code",
   "execution_count": null,
   "metadata": {},
   "outputs": [],
   "source": [
    "check_exercise('Exercise 7.2')"
   ]
  },
  {
   "cell_type": "markdown",
   "metadata": {},
   "source": [
    "**Exercise 3: Sometimes when programmers get bored or want to have a bit\n",
    "of fun, they add a harmless *Easter Egg* to their program.\n",
    "Modify the program that prompts the user for the file name so that it\n",
    "prints a funny message when the user types in the exact file name \"na na\n",
    "boo boo\". The program should behave normally for all other files which\n",
    "exist and don't exist. Here is a sample execution of the program:**\n",
    "\n",
    "~~~~\n",
    "python egg.py\n",
    "Enter the file name: mbox.txt\n",
    "There were 1797 subject lines in mbox.txt\n",
    "\n",
    "python egg.py\n",
    "Enter the file name: missing.tyxt\n",
    "File cannot be opened: missing.tyxt\n",
    "\n",
    "python egg.py\n",
    "Enter the file name: na na boo boo\n",
    "NA NA BOO BOO TO YOU - You have been punk'd!\n",
    "~~~~\n",
    "\n",
    "**We are not encouraging you to put Easter Eggs in your programs; this is\n",
    "just an exercise.**"
   ]
  },
  {
   "cell_type": "code",
   "execution_count": null,
   "metadata": {},
   "outputs": [],
   "source": [
    "exercise = 'Exercise 7.3'\n",
    "\n",
    "### Start Code Here ###\n",
    "\n",
    "###  End Code Here  ###"
   ]
  },
  {
   "cell_type": "code",
   "execution_count": null,
   "metadata": {},
   "outputs": [],
   "source": [
    "check_exercise('Exercise 7.3')"
   ]
  }
 ],
 "metadata": {
  "kernelspec": {
   "display_name": "Python 3",
   "language": "python",
   "name": "python3"
  },
  "language_info": {
   "codemirror_mode": {
    "name": "ipython",
    "version": 3
   },
   "file_extension": ".py",
   "mimetype": "text/x-python",
   "name": "python",
   "nbconvert_exporter": "python",
   "pygments_lexer": "ipython3",
   "version": "3.8.3"
  }
 },
 "nbformat": 4,
 "nbformat_minor": 4
}
