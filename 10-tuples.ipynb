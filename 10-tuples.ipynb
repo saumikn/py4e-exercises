{
 "cells": [
  {
   "cell_type": "markdown",
   "metadata": {},
   "source": [
    "#### Before you start working on these exercises, make sure you've watched the videos, done the reading, and taken the quiz!\n",
    "\n",
    "General Resources:\n",
    "* [Main PY4E Website](https://www.py4e.com)\n",
    "* [Full Textbook PDF](http://do1.dr-chuck.com/pythonlearn/EN_us/pythonlearn.pdf)\n",
    "* [Full Youtube Playlist](https://www.youtube.com/playlist?list=PLlRFEj9H3Oj7Bp8-DfGpfAfDBiblRfl5p)\n",
    "\n",
    "Lesson 10 Resources:\n",
    "* [Link to Lesson](https://www.py4e.com/lessons/tuples)\n",
    "* [Video 10.1](https://www.youtube.com/watch?v=CaVhM65wD6g&list=PLlRFEj9H3Oj7Bp8-DfGpfAfDBiblRfl5p&index=42)\n",
    "* [Video 10.2](https://www.youtube.com/watch?v=FdUdA6o0Ij0&list=PLlRFEj9H3Oj7Bp8-DfGpfAfDBiblRfl5p&index=43)\n",
    "* [Video 10.3](https://www.youtube.com/watch?v=hMJpet-gtc0&list=PLlRFEj9H3Oj7Bp8-DfGpfAfDBiblRfl5p&index=44)\n",
    "* [Lesson Slides](https://www.py4e.com/lectures3/Pythonlearn-10-Tuples.pptx)\n",
    "* [Textbook Chapter 10](https://www.py4e.com/html3/10-tuples)\n",
    "* [Link to Quiz (must be logged in)](https://www.py4e.com/lessons_launch/py4e_10_tup_quiz)"
   ]
  },
  {
   "cell_type": "code",
   "execution_count": null,
   "metadata": {},
   "outputs": [],
   "source": [
    "# Make sure to run this cell to load the autograder!\n",
    "from grader import *"
   ]
  },
  {
   "cell_type": "markdown",
   "metadata": {},
   "source": [
    "**Exercise 1: Revise a previous program as follows: Read and parse the\n",
    "\"From\" lines and pull out the addresses from the line. Count the number\n",
    "of messages from each person using a dictionary.**\n",
    "\n",
    "**After all the data has been read, print the person with the most commits\n",
    "by creating a list of (count, email) tuples from the dictionary. Then\n",
    "sort the list in reverse order and print the tuple.**\n",
    "\n",
    "~~~~\n",
    "Sample Line:\n",
    "From stephen.marquard@uct.ac.za Sat Jan  5 09:14:16 2008\n",
    "\n",
    "Enter a file name: mbox-short.txt\n",
    "cwen@iupui.edu 5\n",
    "\n",
    "Enter a file name: mbox.txt\n",
    "zqian@umich.edu 195\n",
    "~~~~\n"
   ]
  },
  {
   "cell_type": "code",
   "execution_count": null,
   "metadata": {},
   "outputs": [],
   "source": [
    "exercise = 'Exercise 10.1'\n",
    "\n",
    "### Start Code Here ###\n",
    "\n",
    "###  End Code Here  ###"
   ]
  },
  {
   "cell_type": "code",
   "execution_count": null,
   "metadata": {},
   "outputs": [],
   "source": [
    "# Make sure to save your notebook before checking!\n",
    "check_exercise('Exercise 10.1')"
   ]
  },
  {
   "cell_type": "markdown",
   "metadata": {},
   "source": [
    "**Exercise 2: This program counts the distribution of the hour of the day\n",
    "for each of the messages. You can pull the hour from the \"From\" line by\n",
    "finding the time string and then splitting that string into parts using\n",
    "the colon character. Once you have accumulated the counts for each hour,\n",
    "print out the counts, one per line, sorted by hour as shown below.**\n",
    "\n",
    "~~~~\n",
    "Enter a file name: mbox-short.txt\n",
    "04 3\n",
    "06 1\n",
    "07 1\n",
    "09 2\n",
    "10 3\n",
    "11 6\n",
    "14 1\n",
    "15 2\n",
    "16 4\n",
    "17 2\n",
    "18 1\n",
    "19 1\n",
    "~~~~"
   ]
  },
  {
   "cell_type": "code",
   "execution_count": null,
   "metadata": {},
   "outputs": [],
   "source": [
    "exercise = 'Exercise 10.2'\n",
    "\n",
    "### Start Code Here ###\n",
    "\n",
    "###  End Code Here  ###"
   ]
  },
  {
   "cell_type": "code",
   "execution_count": null,
   "metadata": {},
   "outputs": [],
   "source": [
    "# Make sure to save your notebook before checking!\n",
    "check_exercise('Exercise 10.2')"
   ]
  },
  {
   "cell_type": "markdown",
   "metadata": {},
   "source": [
    "**Exercise 3: Write a program that reads a file and prints the\n",
    "*letters* in decreasing order of frequency. Your program\n",
    "should convert all the input to lower case and only count the letters\n",
    "a-z. Your program should not count spaces, digits, punctuation, or\n",
    "anything other than the letters a-z. Find text samples from several\n",
    "different languages and see how letter frequency varies between\n",
    "languages. Compare your results with the tables at\n",
    "<https://wikipedia.org/wiki/Letter_frequencies>.**\n",
    "\n",
    "~~~~\n",
    "Enter a file name: mbox-short.txt\n",
    "[('e', 5436), ('a', 5223), ('i', 4494), ('o', 4174), ('r', 4064), ('t', 4050), ('s', 3738), ('u', 3123), ('c', 3088), ('n', 2575), ('p', 2497), ('m', 2436), ('d', 2004), ('l', 1832), ('h', 1392), ('f', 1257), ('k', 1167), ('b', 1134), ('g', 1027), ('v', 997), ('j', 959), ('y', 643), ('w', 586), ('x', 482), ('z', 78), ('q', 57)]\n",
    "~~~~"
   ]
  },
  {
   "cell_type": "code",
   "execution_count": null,
   "metadata": {},
   "outputs": [],
   "source": [
    "exercise = 'Exercise 10.3'\n",
    "\n",
    "### Start Code Here ###\n",
    "\n",
    "###  End Code Here  ###"
   ]
  },
  {
   "cell_type": "code",
   "execution_count": null,
   "metadata": {},
   "outputs": [],
   "source": [
    "# Make sure to save your notebook before checking!\n",
    "check_exercise('Exercise 10.3')"
   ]
  }
 ],
 "metadata": {
  "kernelspec": {
   "display_name": "Python 3",
   "language": "python",
   "name": "python3"
  },
  "language_info": {
   "codemirror_mode": {
    "name": "ipython",
    "version": 3
   },
   "file_extension": ".py",
   "mimetype": "text/x-python",
   "name": "python",
   "nbconvert_exporter": "python",
   "pygments_lexer": "ipython3",
   "version": "3.8.3"
  }
 },
 "nbformat": 4,
 "nbformat_minor": 4
}
