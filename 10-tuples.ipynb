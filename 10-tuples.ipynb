{
 "cells": [
  {
   "cell_type": "markdown",
   "metadata": {},
   "source": [
    "**Exercise 1: Modify your `find_most_address_messages` function from last chapter as follows: Read and parse the\n",
    "\"From\" lines and pull out the addresses from the line. Count the number\n",
    "of messages from each person using a dictionary.**\n",
    "\n",
    "**After all the data has been read, print the person with the most commits\n",
    "by creating a list of (count, email) tuples from the dictionary. Then\n",
    "sort the list in reverse order and print out the person who has the most\n",
    "commits.**\n",
    "\n",
    "~~~~\n",
    "Sample Line:\n",
    "From stephen.marquard@uct.ac.za Sat Jan  5 09:14:16 2008\n",
    "\n",
    "Enter a file name: mbox-short.txt\n",
    "cwen@iupui.edu 5\n",
    "\n",
    "Enter a file name: mbox.txt\n",
    "zqian@umich.edu 195\n",
    "~~~~"
   ]
  },
  {
   "cell_type": "code",
   "execution_count": null,
   "metadata": {},
   "outputs": [],
   "source": [
    "### Start Code Here ###\n",
    "def print_most_commits():    \n",
    "    return\n",
    "###  End Code Here  ###"
   ]
  },
  {
   "cell_type": "markdown",
   "metadata": {},
   "source": [
    "**Exercise 2: This program counts the distribution of the hour of the day\n",
    "for each of the messages. You can pull the hour from the \"From\" line by\n",
    "finding the time string and then splitting that string into parts using\n",
    "the colon character. Once you have accumulated the counts for each hour,\n",
    "print out the counts, one per line, sorted by hour as shown below.**\n",
    "\n",
    "~~~~\n",
    "Enter a file name: mbox-short.txt\n",
    "04 3\n",
    "06 1\n",
    "07 1\n",
    "09 2\n",
    "10 3\n",
    "11 6\n",
    "14 1\n",
    "15 2\n",
    "16 4\n",
    "17 2\n",
    "18 1\n",
    "19 1\n",
    "~~~~"
   ]
  },
  {
   "cell_type": "code",
   "execution_count": null,
   "metadata": {},
   "outputs": [],
   "source": [
    "### Start Code Here ###\n",
    "def print_hour_distribution():    \n",
    "    return\n",
    "###  End Code Here  ###"
   ]
  },
  {
   "cell_type": "markdown",
   "metadata": {},
   "source": [
    "**Exercise 3: Write a function that reads a file and prints the\n",
    "*letters* in decreasing order of frequency. Your program\n",
    "should convert all the input to lower case and only count the letters\n",
    "a-z. Your program should not count spaces, digits, punctuation, or\n",
    "anything other than the letters a-z. Find text samples from several\n",
    "different languages and see how letter frequency varies between\n",
    "languages. Compare your results with the tables at\n",
    "<https://wikipedia.org/wiki/Letter_frequencies>.**"
   ]
  },
  {
   "cell_type": "code",
   "execution_count": null,
   "metadata": {},
   "outputs": [],
   "source": [
    "### Start Code Here ###\n",
    "def print_letters_decreasing_frequency():    \n",
    "    return\n",
    "###  End Code Here  ###"
   ]
  },
  {
   "cell_type": "code",
   "execution_count": null,
   "metadata": {},
   "outputs": [],
   "source": []
  }
 ],
 "metadata": {
  "kernelspec": {
   "display_name": "Python 3",
   "language": "python",
   "name": "python3"
  },
  "language_info": {
   "codemirror_mode": {
    "name": "ipython",
    "version": 3
   },
   "file_extension": ".py",
   "mimetype": "text/x-python",
   "name": "python",
   "nbconvert_exporter": "python",
   "pygments_lexer": "ipython3",
   "version": "3.8.3"
  }
 },
 "nbformat": 4,
 "nbformat_minor": 4
}
