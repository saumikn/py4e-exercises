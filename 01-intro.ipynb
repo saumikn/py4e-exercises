{
 "cells": [
  {
   "cell_type": "code",
   "execution_count": null,
   "metadata": {},
   "outputs": [],
   "source": [
    "from grader import *"
   ]
  },
  {
   "cell_type": "markdown",
   "metadata": {},
   "source": [
    "**Exercise 1: What is the function of the secondary memory in a computer?**\n",
    "\n",
    "a\\) Execute all of the computation and logic of the program\\\n",
    "b) Retrieve web pages over the Internet\\\n",
    "c) Store information for the long term, even beyond a power cycle\\\n",
    "d) Take input from the user"
   ]
  },
  {
   "cell_type": "code",
   "execution_count": null,
   "metadata": {},
   "outputs": [],
   "source": [
    "exercise = 'Exercise 1.1'\n",
    "\n",
    "### Begin Answer Below ###\n",
    "answer = "
   ]
  },
  {
   "cell_type": "code",
   "execution_count": null,
   "metadata": {},
   "outputs": [],
   "source": [
    "check_exercise('Exercise 1.1')"
   ]
  },
  {
   "cell_type": "markdown",
   "metadata": {},
   "source": [
    "**Exercise 2: What is a program?**"
   ]
  },
  {
   "cell_type": "raw",
   "metadata": {},
   "source": [
    "A program is ..."
   ]
  },
  {
   "cell_type": "markdown",
   "metadata": {},
   "source": [
    "**Exercise 3: What is the difference between a compiler and an\n",
    "interpreter?**"
   ]
  },
  {
   "cell_type": "raw",
   "metadata": {},
   "source": [
    "The difference is ..."
   ]
  },
  {
   "cell_type": "markdown",
   "metadata": {},
   "source": [
    "**Exercise 4: Which of the following contains \"machine code\"?**\n",
    "\n",
    "a\\) The Python interpreter\\\n",
    "b) The keyboard\\\n",
    "c) Python source file\\\n",
    "d) A word processing document"
   ]
  },
  {
   "cell_type": "code",
   "execution_count": null,
   "metadata": {},
   "outputs": [],
   "source": [
    "exercise = 'Exercise 1.4'\n",
    "\n",
    "### Begin Answer Below ###\n",
    "answer = "
   ]
  },
  {
   "cell_type": "code",
   "execution_count": null,
   "metadata": {},
   "outputs": [],
   "source": [
    "check_exercise('Exercise 1.4')"
   ]
  },
  {
   "cell_type": "markdown",
   "metadata": {},
   "source": [
    "**Exercise 5: What is wrong with the following code:**\n",
    "\n",
    "~~~~ {.python}\n",
    ">>> primt 'Hello world!'\n",
    "File \"<stdin>\", line 1\n",
    "  primt 'Hello world!'\n",
    "                     ^\n",
    "SyntaxError: invalid syntax\n",
    ">>>\n",
    "~~~~"
   ]
  },
  {
   "cell_type": "raw",
   "metadata": {},
   "source": [
    "The error is because ..."
   ]
  },
  {
   "cell_type": "markdown",
   "metadata": {},
   "source": [
    "**Exercise 6: Where in the computer is a variable such as \"x\" stored after\n",
    "the following Python line finishes?**\n",
    "\n",
    "~~~~ {.python}\n",
    "x = 123\n",
    "~~~~\n",
    "\n",
    "a\\) Central processing unit\\\n",
    "b) Main Memory\\\n",
    "c) Secondary Memory\\\n",
    "d) Input Devices\\\n",
    "e) Output Devices\n"
   ]
  },
  {
   "cell_type": "code",
   "execution_count": null,
   "metadata": {},
   "outputs": [],
   "source": [
    "exercise = 'Exercise 1.6'\n",
    "\n",
    "### Begin Answer Below ###\n",
    "answer = "
   ]
  },
  {
   "cell_type": "code",
   "execution_count": null,
   "metadata": {},
   "outputs": [],
   "source": [
    "check_exercise('Exercise 1.6')"
   ]
  },
  {
   "cell_type": "markdown",
   "metadata": {},
   "source": [
    "**Exercise 7: What will the following program print out:**\n",
    "\n",
    "~~~~ {.python}\n",
    "x = 43\n",
    "x = x + 1\n",
    "print(x)\n",
    "~~~~\n",
    "\n",
    "a\\) 43\\\n",
    "b) 44\\\n",
    "c) x + 1\\\n",
    "d) Error because x = x + 1 is not possible mathematically"
   ]
  },
  {
   "cell_type": "code",
   "execution_count": null,
   "metadata": {},
   "outputs": [],
   "source": [
    "exercise = 'Exercise 1.7'\n",
    "\n",
    "### Begin Answer Below ###\n",
    "answer = "
   ]
  },
  {
   "cell_type": "code",
   "execution_count": null,
   "metadata": {},
   "outputs": [],
   "source": [
    "check_exercise('Exercise 1.7')"
   ]
  },
  {
   "cell_type": "markdown",
   "metadata": {},
   "source": [
    "**Exercise 8: Explain each of the following using an example of a human\n",
    "capability: (1) Central processing unit, (2) Main Memory, (3) Secondary\n",
    "Memory, (4) Input Device, and (5) Output Device. For example, \"What is\n",
    "the human equivalent to a Central Processing Unit\"?**"
   ]
  },
  {
   "cell_type": "raw",
   "metadata": {},
   "source": [
    "1. \n",
    "\n",
    "2. \n",
    "\n",
    "3. \n",
    "\n",
    "4. \n",
    "\n",
    "5. "
   ]
  },
  {
   "cell_type": "markdown",
   "metadata": {},
   "source": [
    "**Exercise 9: How do you fix a \"Syntax Error\"?**\n"
   ]
  },
  {
   "cell_type": "raw",
   "metadata": {},
   "source": [
    "You can fix a syntax error by ..."
   ]
  }
 ],
 "metadata": {
  "kernelspec": {
   "display_name": "Python 3",
   "language": "python",
   "name": "python3"
  },
  "language_info": {
   "codemirror_mode": {
    "name": "ipython",
    "version": 3
   },
   "file_extension": ".py",
   "mimetype": "text/x-python",
   "name": "python",
   "nbconvert_exporter": "python",
   "pygments_lexer": "ipython3",
   "version": "3.8.3"
  }
 },
 "nbformat": 4,
 "nbformat_minor": 4
}
